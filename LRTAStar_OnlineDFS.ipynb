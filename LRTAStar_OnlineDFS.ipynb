{
 "cells": [
  {
   "cell_type": "code",
   "execution_count": 69,
   "id": "c79d43ed",
   "metadata": {
    "tags": []
   },
   "outputs": [],
   "source": [
    "import matplotlib.pyplot as plt\n",
    "import time\n",
    "from IPython.display import clear_output"
   ]
  },
  {
   "cell_type": "markdown",
   "id": "f5383bf0",
   "metadata": {},
   "source": [
    "1. CREATE MAZE"
   ]
  },
  {
   "cell_type": "code",
   "execution_count": 72,
   "id": "185c6956",
   "metadata": {
    "tags": []
   },
   "outputs": [],
   "source": [
    "class Maze:\n",
    "    def __init__(self, grid):\n",
    "        # Initialize the maze and its initial attributes\n",
    "        self.grid = grid  # Maze grid\n",
    "        self.walls = []  # List of walls\n",
    "        self.start_position = None  # Start position\n",
    "        self.end_position = None  # End position\n",
    "        self.path_taken = []  # Store the path taken by the agent\n",
    "        self.setup()  # Setup the maze\n",
    "\n",
    "    def setup(self):\n",
    "        # Set up maze attributes based on the grid\n",
    "        for y in range(len(self.grid)):\n",
    "            for x in range(len(self.grid[y])):\n",
    "                cell = self.grid[y][x]\n",
    "                if cell == 1:  # If the cell is a wall\n",
    "                    self.walls.append((x, y))  # Add the wall position to the walls list\n",
    "                elif cell == \"s\":  # If the cell is the start position\n",
    "                    self.start_position = (x, y)  # Set the start position\n",
    "                elif cell == \"g\":  # If the cell is the goal position\n",
    "                    self.end_position = (x, y)  # Set the end position\n",
    "\n",
    "    def draw(self, agent_position):\n",
    "        plt.clf()  # Clear the previous grid\n",
    "        # Draw the maze and the agent's position\n",
    "        for y in range(len(self.grid)):\n",
    "            for x in range(len(self.grid[y])):\n",
    "                cell = self.grid[y][x]\n",
    "                if cell == 1:  # Cell is a wall\n",
    "                    plt.fill([x, x + 1, x + 1, x], \n",
    "                             [len(self.grid) - y - 1, len(self.grid) - y - 1, len(self.grid) - y, len(self.grid) - y], color='black')\n",
    "                elif cell == \"s\":  # Cell is the start position\n",
    "                    plt.fill([x, x + 1, x + 1, x], \n",
    "                             [len(self.grid) - y - 1, len(self.grid) - y - 1, len(self.grid) - y, len(self.grid) - y], color='green')\n",
    "                elif cell == \"g\":  # Cell is the goal position\n",
    "                    plt.fill([x, x + 1, x + 1, x], \n",
    "                             [len(self.grid) - y - 1, len(self.grid) - y - 1, len(self.grid) - y, len(self.grid) - y], color='red')\n",
    "        \n",
    "        # Iterate through the path taken to color it\n",
    "        for position in self.path_taken:\n",
    "            # Determine the coordinates (x, y) of the four corners of the cell the agent has visited\n",
    "            plt.fill([position[0], position[0] + 1, position[0] + 1, position[0]], \n",
    "                     [len(self.grid) - position[1] - 1, len(self.grid) - position[1] - 1, len(self.grid) - position[1], len(self.grid) - position[1]], color='orange')\n",
    "    \n",
    "        # Determine the coordinates (x, y) of the four corners of the current cell to mark the agent's position\n",
    "        plt.fill([agent_position[0], agent_position[0] + 1, agent_position[0] + 1, agent_position[0]], \n",
    "                 [len(self.grid) - agent_position[1] - 1, len(self.grid) - agent_position[1] - 1, len(self.grid) - agent_position[1], len(self.grid) - agent_position[1]], color='blue')\n",
    "        \n",
    "        # Ensure the aspect ratio of the axes is equal\n",
    "        plt.axis('equal')\n",
    "        # Hide the x and y axis ticks\n",
    "        plt.axis('off')\n",
    "        # Render the plot\n",
    "        plt.draw()\n",
    "        # Pause for a short time\n",
    "        plt.pause(0.0005)\n",
    "        \n",
    "    # Method to update the path taken\n",
    "    def update_path_taken(self, position):\n",
    "        self.path_taken.append(position)\n"
   ]
  },
  {
   "cell_type": "markdown",
   "id": "2f6cb87e",
   "metadata": {},
   "source": [
    "2. CREATE CLASS PROBLEM"
   ]
  },
  {
   "cell_type": "code",
   "execution_count": 75,
   "id": "97628656",
   "metadata": {
    "tags": []
   },
   "outputs": [],
   "source": [
    "class OnlineSearchProblem:\n",
    "    def __init__(self, initial, goal, maze):\n",
    "        # Initialize the online search problem \n",
    "        # with the initial state, goal state, and maze\n",
    "        self.initial = initial  # Initial state\n",
    "        self.goal = goal  # Goal state\n",
    "        self.maze = maze  # Maze\n",
    "        self.path = []\n",
    "\n",
    "    def output(self, state, action):\n",
    "        # Return the new state after performing an action from a specific state\n",
    "        x, y = state  # Coordinates of the state\n",
    "        dx, dy = action  # Action to be performed\n",
    "        new_x, new_y = x + dx, y + dy  # New coordinates after performing the action\n",
    "        return (new_x, new_y)  # Return the new state\n",
    "\n",
    "    def h(self, state):\n",
    "        # Heuristic function h(state): Estimate the distance from the state to the goal state\n",
    "        return abs(state[0] - self.goal[0]) + abs(state[1] - self.goal[1])\n",
    "\n",
    "    def action_cost(self, s, a, s1):\n",
    "        # Return the cost of action a from state s to state s1\n",
    "        return 1\n",
    "\n",
    "    def goal_test(self, state):\n",
    "        # Check if a state is the goal state\n",
    "        return state == self.goal  # Return True if the state is the goal state, otherwise False\n"
   ]
  },
  {
   "cell_type": "markdown",
   "id": "6bb41e2f",
   "metadata": {},
   "source": [
    "3. CREATE CLASS AGENT LRTASTAR"
   ]
  },
  {
   "cell_type": "code",
   "execution_count": 95,
   "id": "31efd634",
   "metadata": {
    "tags": []
   },
   "outputs": [],
   "source": [
    "class LRTAStarAgent:\n",
    "    def __init__(self, problem):\n",
    "        # Initialize LRTA* Agent \n",
    "        self.problem = problem  \n",
    "        # self.result = {} stores the result when performing action a in state s\n",
    "        self.H = {}  # Dictionary to store h(s) values for each state s\n",
    "        self.s = None  # Previous state\n",
    "        self.a = None  # Previous action\n",
    "\n",
    "    def __call__(self, s1):\n",
    "        if self.problem.goal_test(s1):\n",
    "            # Check if the reached state is the goal state\n",
    "            self.a = None  \n",
    "            return self.a\n",
    "        else:\n",
    "            if s1 not in self.H:\n",
    "                # If the heuristic value for the new state has not been calculated\n",
    "                self.H[s1] = self.problem.h(s1)  # Calculate the heuristic value for the new state\n",
    "\n",
    "            if self.s is not None:\n",
    "                # Update the heuristic value of the previous state\n",
    "                self.H[self.s] = min(self.LRTA_cost(self.s, b, self.problem.output(self.s, b), self.H) for b in self.actions(self.s))\n",
    "\n",
    "            # Choose the best action from the current state s1\n",
    "            self.a = min(self.actions(s1), key=lambda b: self.LRTA_cost(s1, b, self.problem.output(s1, b), self.H))\n",
    "            \n",
    "            print(\"State s:\", self.s, \" Action a:\", self.a, \"\\n New state s':\", s1)\n",
    "            self.s = s1  # Update the current state for the next call\n",
    "            \n",
    "            return self.a  # Return the selected action\n",
    "\n",
    "    def LRTA_cost(self, s, a, s1, H):\n",
    "        # Calculate the cost of the action from state s to s1 based on the heuristic value H\n",
    "\n",
    "        if s1 is None:\n",
    "            # If the next state is None \n",
    "            return self.problem.h(s)  # Return the heuristic value of the current state\n",
    "        else:\n",
    "            try:\n",
    "                # Get the heuristic value of state s1 from dictionary H\n",
    "                return self.problem.action_cost(s, a, s1) + H[s1]\n",
    "            except KeyError:\n",
    "                # If the heuristic value of s1 cannot be retrieved from H (not calculated yet)\n",
    "                # Usually because h(s1) needs to be retrieved but not yet added to H\n",
    "                # self.problem.h(s1): Add new heuristic value and return the action cost\n",
    "                return self.problem.action_cost(s, a, s1) + self.problem.h(s1)  \n",
    "            \n",
    "    def actions(self, state):\n",
    "        x, y = state\n",
    "        possible_actions = []\n",
    "        for dx, dy in [(0, -1), (0, 1), (1, 0), (-1, 0)]:\n",
    "            new_x, new_y = x + dx, y + dy\n",
    "            if (new_x, new_y) not in self.problem.maze.walls:\n",
    "                possible_actions.append((dx, dy))\n",
    "        return possible_actions\n"
   ]
  },
  {
   "cell_type": "markdown",
   "id": "ead057b6",
   "metadata": {},
   "source": [
    "4. CREATE CLASS AGENT ONLINE DFS"
   ]
  },
  {
   "cell_type": "code",
   "execution_count": 98,
   "id": "92d93f78",
   "metadata": {
    "tags": []
   },
   "outputs": [],
   "source": [
    "class OnlineDFSAgent:\n",
    "\n",
    "    def __init__(self, problem):\n",
    "        self.problem = problem  # Initialize the problem that the agent is trying to solve\n",
    "        self.s = None  # Initialize the previous state\n",
    "        self.a = None  # Initialize the previous action\n",
    "        self.untried = dict()  # Create a dictionary to store untried actions for each state\n",
    "        self.unbacktracked = dict()  # Create a dictionary to store states that haven't been backtracked\n",
    "        self.result = {}  # Create a dictionary to store the results of performed actions\n",
    "\n",
    "    def __call__(self, percept):\n",
    "        s1 = self.update_state(percept)  # Update the current state based on received information\n",
    "        if s1 not in self.problem.path:\n",
    "            self.problem.path.append(s1)  # Add the current state to the path\n",
    "        if self.problem.goal_test(s1):  # Check if the goal has been reached\n",
    "            self.a = None  # No action needed if the goal state is reached\n",
    "        else:\n",
    "            if s1 not in self.untried.keys():  # Check if the current state is a new state\n",
    "                self.untried[s1] = self.actions(s1)\n",
    "            if self.s is not None:  # Check if there is a previous state\n",
    "                if s1 not in self.result or s1 != self.result[(self.s, self.a)]:\n",
    "                    self.result[(self.s, self.a)] = s1  # Store the result of the action performed from the previous state\n",
    "                if s1 not in self.unbacktracked.keys():  # Check if there is a state that hasn't been backtracked\n",
    "                    self.unbacktracked[s1] = []  # Initialize the unbacktracked state for the current state\n",
    "                if self.s in self.result.values() or self.s is self.problem.initial:\n",
    "                    if self.s in self.untried.keys():  # The state added to unbacktracked must meet the condition: not already backtracked\n",
    "                        self.unbacktracked[s1].insert(0, self.s)  # Add the previous state to the unbacktracked list\n",
    "\n",
    "            if len(self.untried[s1]) == 0:  # Check if there are any untried actions for the current state\n",
    "                if len(self.unbacktracked[s1]) == 0:  # Check if there are any unbacktracked states for the current state\n",
    "                    self.a = None  # No action if both are empty\n",
    "                else:\n",
    "                    unbacktracked_pop = self.unbacktracked[s1].pop(0)  # Get the next unbacktracked state\n",
    "                    if s1 in self.problem.path:\n",
    "                        self.problem.path.remove(s1)  # Remove the state if it already exists (i.e., being backtracked)\n",
    "                    self.untried.pop(s1, None)  # Mark the current state as new due to backtracking\n",
    "                    x, y = s1\n",
    "                    for dx, dy in [(1, 0), (0, 1), (-1, 0), (0, -1)]:\n",
    "                        new_x, new_y = x + dx, y + dy\n",
    "                        b = (new_x, new_y)\n",
    "                        if b == unbacktracked_pop:\n",
    "                            self.a = (dx, dy)  # Choose the action to reach the unbacktracked state\n",
    "                            break\n",
    "            else:\n",
    "                self.a = self.untried[s1].pop(0)  # Choose the next untried action for the current state\n",
    "\n",
    "        self.s = s1  # Update the current state\n",
    "        return self.a  # Return the chosen action\n",
    "\n",
    "    def update_state(self, percept):\n",
    "        return percept  # Update the current state based on received information\n",
    "\n",
    "    def actions(self, state):\n",
    "        x, y = state\n",
    "        possible_actions = []\n",
    "        for dx, dy in [(0, -1), (0, 1), (1, 0), (-1, 0)]:\n",
    "            new_x, new_y = x + dx, y + dy\n",
    "            if (new_x, new_y) not in self.problem.maze.walls and (new_x, new_y) not in self.untried.keys():\n",
    "                possible_actions.append((dx, dy))\n",
    "        return possible_actions  # Return the list of possible actions from the current state\n"
   ]
  },
  {
   "cell_type": "markdown",
   "id": "e8949b46",
   "metadata": {},
   "source": [
    "5. CREATE GRID MAZE"
   ]
  },
  {
   "cell_type": "code",
   "execution_count": 112,
   "id": "c26528f8",
   "metadata": {
    "tags": []
   },
   "outputs": [
    {
     "data": {
      "image/png": "[encoded data removed]",
      "text/plain": [
       "<Figure size 640x480 with 1 Axes>"
      ]
     },
     "metadata": {},
     "output_type": "display_data"
    }
   ],
   "source": [
    "#create grid maze\n",
    "\n",
    "#ex1\n",
    "grid = [[1, 1, 1, 1, 1, 1, 1, 1, 1, 1, 1, 1],\n",
    "        [1,'s', 0, 0, 1,0, 0, 0, 0, 0, 0, 1],\n",
    "        [1, 0, 1, 1, 1, 1, 0, 1, 0, 1, 0, 1],\n",
    "        [1, 0, 0, 0, 0, 0, 0, 1, 0, 0, 0, 1],\n",
    "        [1, 0, 1, 0, 1, 1, 0, 0, 0, 1, 0, 1],\n",
    "        [1, 0, 0, 1, 0, 1, 0, 1, 0, 0, 0, 1],\n",
    "        [1, 1, 0, 1, 0, 1, 0, 1, 1, 1, 0, 1],\n",
    "        [1, 0, 0, 0, 0, 0, 0, 0, 0, 0,'g',1],\n",
    "        [1, 1, 1, 1, 1, 1, 1, 1, 1, 1, 1, 1]]\n",
    "\n",
    "#ex2\n",
    "# grid = [[1, 1, 1, 1, 1, 1, 1],\n",
    "#         [1, 0, 0, 0, 0,'g', 1],\n",
    "#         [1, 0, 0, 0, 0, 0, 1],\n",
    "#         [1, 0, 0, 0, 0, 0, 1],\n",
    "#         [1, 0, 0, 0, 0, 0, 1],\n",
    "#         [1, 0, 0, 0, 0, 0, 1],\n",
    "#         [1, 0, 0, 0, 0, 0, 1],\n",
    "#         [1, 0, 0, 0, 0, 0, 1],\n",
    "#         [1,'s',0, 0, 0, 0, 1],\n",
    "#         [1, 1, 1, 1, 1, 1, 1]]\n",
    "\n",
    "\n",
    "# ex3: Dead end\n",
    "# grid = [[1, 1, 1, 1, 1, 1, 1],\n",
    "#         [1, 0, 0, 0, 1,'g', 1],\n",
    "#         [1, 0, 0, 0, 1, 1, 1],\n",
    "#         [1, 0, 0, 0, 0, 0, 1],\n",
    "#         [1, 0, 0, 0, 0, 0, 1],\n",
    "#         [1, 0, 0, 0, 0, 0, 1],\n",
    "#         [1, 0, 0, 0, 0, 0, 1],\n",
    "#         [1, 0, 0, 0, 0, 0, 1],\n",
    "#         [1,'s',0, 0, 0, 0, 1],\n",
    "#         [1, 1, 1, 1, 1, 1, 1]]\n",
    "\n",
    "maze = Maze(grid)\n",
    "#draw maze\n",
    "maze.draw(maze.start_position)"
   ]
  },
  {
   "cell_type": "markdown",
   "id": "e59bd003",
   "metadata": {},
   "source": [
    "6. CREATE TWO AGENT ONLINE DFS AND LRTASTAR"
   ]
  },
  {
   "cell_type": "code",
   "execution_count": 115,
   "id": "c9cefe8d",
   "metadata": {
    "tags": []
   },
   "outputs": [],
   "source": [
    "initial_state = maze.start_position  # Starting position\n",
    "goal_state = maze.end_position  # Goal position\n",
    "\n",
    "# Create the problem\n",
    "problem = OnlineSearchProblem(initial_state, goal_state, maze)\n",
    "\n",
    "# LRTA* agent\n",
    "lrta_agent = LRTAStarAgent(problem)\n",
    "\n",
    "# Online DFS agent\n",
    "dfs_agent = OnlineDFSAgent(problem)\n"
   ]
  },
  {
   "cell_type": "markdown",
   "id": "437365d3",
   "metadata": {},
   "source": [
    "7. MAZE PATHFINDING AGENTS"
   ]
  },
  {
   "cell_type": "code",
   "execution_count": 118,
   "id": "8b1f1925",
   "metadata": {
    "scrolled": true,
    "tags": []
   },
   "outputs": [
    {
     "name": "stdout",
     "output_type": "stream",
     "text": [
      "State s: None  Action a: (0, 1) \n",
      " New state s': (1, 1)\n"
     ]
    },
    {
     "data": {
      "image/png": "[encoded data removed]",
      "text/plain": [
       "<Figure size 640x480 with 1 Axes>"
      ]
     },
     "metadata": {},
     "output_type": "display_data"
    },
    {
     "name": "stdout",
     "output_type": "stream",
     "text": [
      "State s: (1, 1)  Action a: (0, 1) \n",
      " New state s': (1, 2)\n"
     ]
    },
    {
     "data": {
      "image/png": "[encoded data removed]",
      "text/plain": [
       "<Figure size 640x480 with 1 Axes>"
      ]
     },
     "metadata": {},
     "output_type": "display_data"
    },
    {
     "name": "stdout",
     "output_type": "stream",
     "text": [
      "State s: (1, 2)  Action a: (0, 1) \n",
      " New state s': (1, 3)\n"
     ]
    },
    {
     "data": {
      "image/png": "[encoded data removed]",
      "text/plain": [
       "<Figure size 640x480 with 1 Axes>"
      ]
     },
     "metadata": {},
     "output_type": "display_data"
    },
    {
     "name": "stdout",
     "output_type": "stream",
     "text": [
      "State s: (1, 3)  Action a: (0, 1) \n",
      " New state s': (1, 4)\n"
     ]
    },
    {
     "data": {
      "image/png": "[encoded data removed]",
      "text/plain": [
       "<Figure size 640x480 with 1 Axes>"
      ]
     },
     "metadata": {},
     "output_type": "display_data"
    },
    {
     "name": "stdout",
     "output_type": "stream",
     "text": [
      "State s: (1, 4)  Action a: (1, 0) \n",
      " New state s': (1, 5)\n"
     ]
    },
    {
     "data": {
      "image/png": "[encoded data removed]",
      "text/plain": [
       "<Figure size 640x480 with 1 Axes>"
      ]
     },
     "metadata": {},
     "output_type": "display_data"
    },
    {
     "name": "stdout",
     "output_type": "stream",
     "text": [
      "State s: (1, 5)  Action a: (0, 1) \n",
      " New state s': (2, 5)\n"
     ]
    },
    {
     "data": {
      "image/png": "[encoded data removed]",
      "text/plain": [
       "<Figure size 640x480 with 1 Axes>"
      ]
     },
     "metadata": {},
     "output_type": "display_data"
    },
    {
     "name": "stdout",
     "output_type": "stream",
     "text": [
      "State s: (2, 5)  Action a: (0, 1) \n",
      " New state s': (2, 6)\n"
     ]
    },
    {
     "data": {
      "image/png": "[encoded data removed]",
      "text/plain": [
       "<Figure size 640x480 with 1 Axes>"
      ]
     },
     "metadata": {},
     "output_type": "display_data"
    },
    {
     "name": "stdout",
     "output_type": "stream",
     "text": [
      "State s: (2, 6)  Action a: (1, 0) \n",
      " New state s': (2, 7)\n"
     ]
    },
    {
     "data": {
      "image/png": "[encoded data removed]",
      "text/plain": [
       "<Figure size 640x480 with 1 Axes>"
      ]
     },
     "metadata": {},
     "output_type": "display_data"
    },
    {
     "name": "stdout",
     "output_type": "stream",
     "text": [
      "State s: (2, 7)  Action a: (1, 0) \n",
      " New state s': (3, 7)\n"
     ]
    },
    {
     "data": {
      "image/png": "[encoded data removed]",
      "text/plain": [
       "<Figure size 640x480 with 1 Axes>"
      ]
     },
     "metadata": {},
     "output_type": "display_data"
    },
    {
     "name": "stdout",
     "output_type": "stream",
     "text": [
      "State s: (3, 7)  Action a: (1, 0) \n",
      " New state s': (4, 7)\n"
     ]
    },
    {
     "data": {
      "image/png": "[encoded data removed]",
      "text/plain": [
       "<Figure size 640x480 with 1 Axes>"
      ]
     },
     "metadata": {},
     "output_type": "display_data"
    },
    {
     "name": "stdout",
     "output_type": "stream",
     "text": [
      "State s: (4, 7)  Action a: (1, 0) \n",
      " New state s': (5, 7)\n"
     ]
    },
    {
     "data": {
      "image/png": "[encoded data removed]",
      "text/plain": [
       "<Figure size 640x480 with 1 Axes>"
      ]
     },
     "metadata": {},
     "output_type": "display_data"
    },
    {
     "name": "stdout",
     "output_type": "stream",
     "text": [
      "State s: (5, 7)  Action a: (1, 0) \n",
      " New state s': (6, 7)\n"
     ]
    },
    {
     "data": {
      "image/png": "[encoded data removed]",
      "text/plain": [
       "<Figure size 640x480 with 1 Axes>"
      ]
     },
     "metadata": {},
     "output_type": "display_data"
    },
    {
     "name": "stdout",
     "output_type": "stream",
     "text": [
      "State s: (6, 7)  Action a: (1, 0) \n",
      " New state s': (7, 7)\n"
     ]
    },
    {
     "data": {
      "image/png": "[encoded data removed]",
      "text/plain": [
       "<Figure size 640x480 with 1 Axes>"
      ]
     },
     "metadata": {},
     "output_type": "display_data"
    },
    {
     "name": "stdout",
     "output_type": "stream",
     "text": [
      "State s: (7, 7)  Action a: (1, 0) \n",
      " New state s': (8, 7)\n"
     ]
    },
    {
     "data": {
      "image/png": "[encoded data removed]",
      "text/plain": [
       "<Figure size 640x480 with 1 Axes>"
      ]
     },
     "metadata": {},
     "output_type": "display_data"
    },
    {
     "name": "stdout",
     "output_type": "stream",
     "text": [
      "State s: (8, 7)  Action a: (1, 0) \n",
      " New state s': (9, 7)\n"
     ]
    },
    {
     "data": {
      "image/png": "[encoded data removed]",
      "text/plain": [
       "<Figure size 640x480 with 1 Axes>"
      ]
     },
     "metadata": {},
     "output_type": "display_data"
    },
    {
     "name": "stdout",
     "output_type": "stream",
     "text": [
      "total step 15\n"
     ]
    }
   ],
   "source": [
    "current_state = initial_state\n",
    "# Count the number of steps\n",
    "i = int(0)\n",
    "while current_state != goal_state:\n",
    "    i+=1\n",
    "#     clear_output(wait=True)\n",
    "    \n",
    "    # LRTAStar agent runs and Draws the path taken by the LRTAStar agent\n",
    "    action = lrta_agent(current_state)\n",
    "    maze.update_path_taken(current_state)\n",
    "\n",
    "    # Online DFS agent runs\n",
    "    # action = dfs_agent(current_state)\n",
    "\n",
    "    current_state = problem.output(current_state, action)\n",
    "    maze.draw(current_state)\n",
    "\n",
    "print(\"total step\",i)\n"
   ]
  },
  {
   "cell_type": "markdown",
   "id": "821c38ad",
   "metadata": {},
   "source": [
    "8. PRINT THE PATH FROM START TO FINISH OF THE ONLINE DFS AGENT"
   ]
  },
  {
   "cell_type": "code",
   "execution_count": 121,
   "id": "58f641fd",
   "metadata": {
    "tags": []
   },
   "outputs": [],
   "source": [
    "# Print the path of the Online DFS agent - (Excluding backtracked cells)\n",
    "for s in problem.path:\n",
    "    \n",
    "    clear_output(wait = True)\n",
    "    maze.update_path_taken(s)\n",
    "    maze.draw(s)\n"
   ]
  },
  {
   "cell_type": "code",
   "execution_count": null,
   "id": "d0665c25-b462-4694-b08f-fba76a3be586",
   "metadata": {},
   "outputs": [],
   "source": []
  }
 ],
 "metadata": {
  "kernelspec": {
   "display_name": "Python 3 (ipykernel)",
   "language": "python",
   "name": "python3"
  },
  "language_info": {
   "codemirror_mode": {
    "name": "ipython",
    "version": 3
   },
   "file_extension": ".py",
   "mimetype": "text/x-python",
   "name": "python",
   "nbconvert_exporter": "python",
   "pygments_lexer": "ipython3",
   "version": "3.11.7"
  }
 },
 "nbformat": 4,
 "nbformat_minor": 5
}
